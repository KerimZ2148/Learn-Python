{
 "cells": [
  {
   "cell_type": "code",
   "execution_count": 1,
   "id": "d1438850-f831-482f-bba8-239b7f1cae31",
   "metadata": {},
   "outputs": [
    {
     "name": "stdout",
     "output_type": "stream",
     "text": [
      "Hi world\n"
     ]
    }
   ],
   "source": [
    "print(\"Hi world\")"
   ]
  },
  {
   "cell_type": "code",
   "execution_count": 10,
   "id": "e81e3a70-5722-4847-b781-d98da1882126",
   "metadata": {},
   "outputs": [
    {
     "name": "stdout",
     "output_type": "stream",
     "text": [
      "Whats Your Name? Kerim\n"
     ]
    },
    {
     "name": "stdout",
     "output_type": "stream",
     "text": [
      "Hi Kerim\n"
     ]
    }
   ],
   "source": [
    "name=input(\"Whats Your Name?\")\n",
    "print(\"Hi \"+name)"
   ]
  },
  {
   "cell_type": "code",
   "execution_count": 14,
   "id": "40860a99-8107-46e8-875a-7d3debbabce2",
   "metadata": {},
   "outputs": [
    {
     "name": "stdout",
     "output_type": "stream",
     "text": [
      "Hi Welcome Whats your name? Kerim\n"
     ]
    },
    {
     "name": "stdout",
     "output_type": "stream",
     "text": [
      "Your name=Kerim\n"
     ]
    },
    {
     "name": "stdout",
     "output_type": "stream",
     "text": [
      "Whats your favorite Color? Blue\n"
     ]
    },
    {
     "name": "stdout",
     "output_type": "stream",
     "text": [
      "Your Favorite Color is Blue\n"
     ]
    },
    {
     "name": "stdout",
     "output_type": "stream",
     "text": [
      "Where Did you came? Fethiye\n"
     ]
    },
    {
     "name": "stdout",
     "output_type": "stream",
     "text": [
      "I came from Fethiye\n"
     ]
    }
   ],
   "source": [
    "name=input(\"Hi Welcome Whats your name?\")\n",
    "print(\"Your name=\"+name)\n",
    "color=input(\"Whats your favorite Color?\")\n",
    "print(\"Your Favorite Color is \"+color)\n",
    "city=input(\"Where Did you came?\")\n",
    "print(\"I came from \"+city)"
   ]
  },
  {
   "cell_type": "code",
   "execution_count": 18,
   "id": "1f0cb953-5366-4ed8-b119-d18b54c3174f",
   "metadata": {},
   "outputs": [
    {
     "name": "stdout",
     "output_type": "stream",
     "text": [
      "what do you want to be When Your Grow Up? Data Scitenst\n"
     ]
    },
    {
     "name": "stdout",
     "output_type": "stream",
     "text": [
      "You want to be Data Scitenst\n"
     ]
    }
   ],
   "source": [
    "job=input(\"what do you want to be When Your Grow Up?\")\n",
    "print(\"You want to be \"+job)"
   ]
  },
  {
   "cell_type": "code",
   "execution_count": 36,
   "id": "a75415dd-76af-4b08-b5e5-baab8575ca44",
   "metadata": {},
   "outputs": [
    {
     "name": "stdout",
     "output_type": "stream",
     "text": [
      "Birth year= 2004\n"
     ]
    },
    {
     "name": "stdout",
     "output_type": "stream",
     "text": [
      "<class 'str'>\n",
      "<class 'int'>\n",
      "20\n"
     ]
    }
   ],
   "source": [
    "birthyear=input(\"Birth year=\")\n",
    "print(type(birthyear))\n",
    "age=2024-int(birthyear) \n",
    "print(type(age))\n",
    "print(age)"
   ]
  },
  {
   "cell_type": "code",
   "execution_count": 42,
   "id": "6c80124b-3fdd-4d85-968e-af08560c45a8",
   "metadata": {},
   "outputs": [
    {
     "name": "stdout",
     "output_type": "stream",
     "text": [
      "Whats Your Weight? 75\n"
     ]
    },
    {
     "name": "stdout",
     "output_type": "stream",
     "text": [
      "75\n",
      "7500\n"
     ]
    }
   ],
   "source": [
    "Weight=input(\"Whats Your Weight?\")\n",
    "convert_kilos=int(Weight)*100\n",
    "print(Weight)\n",
    "print(convert_kilos)"
   ]
  },
  {
   "cell_type": "code",
   "execution_count": 61,
   "id": "30876b99-e37d-4578-8713-018428ef0ca3",
   "metadata": {},
   "outputs": [
    {
     "name": "stdout",
     "output_type": "stream",
     "text": [
      "Pytho\n"
     ]
    }
   ],
   "source": [
    "name='Python For Beginners'\n",
    "another=name[0:5]\n",
    "print(another)"
   ]
  },
  {
   "cell_type": "code",
   "execution_count": 63,
   "id": "014b47b4-1e5d-4c2b-803a-426930da1f68",
   "metadata": {},
   "outputs": [
    {
     "name": "stdout",
     "output_type": "stream",
     "text": [
      "erimÖzyıldı\n"
     ]
    }
   ],
   "source": [
    "name=\"KerimÖzyıldız\"\n",
    "print(name[1:-1])"
   ]
  },
  {
   "cell_type": "code",
   "execution_count": 69,
   "id": "6876fbd0-eea2-41a4-ad27-7b82af4329b7",
   "metadata": {},
   "outputs": [
    {
     "name": "stdout",
     "output_type": "stream",
     "text": [
      "Kerim Özyıldız Learning Python\n"
     ]
    }
   ],
   "source": [
    "first=\"Kerim\"\n",
    "Last=\"Özyıldız\"\n",
    "msg=f\"{first} {Last} Learning Python\"\n",
    "print(msg)"
   ]
  },
  {
   "cell_type": "code",
   "execution_count": 87,
   "id": "fc3073b4-2282-4c6a-9e26-b462a875c639",
   "metadata": {},
   "outputs": [
    {
     "name": "stdout",
     "output_type": "stream",
     "text": [
      "20\n",
      "PYTHON FOR BEGINNERS\n",
      "python for beginners\n",
      "7\n",
      "Python For Absolute Beginners\n",
      "jython For Beginners\n",
      "True\n"
     ]
    }
   ],
   "source": [
    "thing=\"Python For Beginners\"\n",
    "print(len(thing))\n",
    "print(thing.upper()) #Yazının Hepsini Büyütür\n",
    "print(thing.lower())  #Yazının Hepsini Küçültür\n",
    "print(thing.find(\"F\")) #Aramak İstedigin Değeri Bulur ve bunu indexe Çevirir En Bastakini Gösterir.\n",
    "print(thing.replace(\"Beginners\" ,\"Absolute Beginners\"))\n",
    "print(thing.replace(\"P\",\"j\"))  # Stringi Degistrir\n",
    "print(\"Python\" in thing) # İN Boll Yapar"
   ]
  },
  {
   "cell_type": "code",
   "execution_count": 115,
   "id": "dfa70f1d-81cf-44d2-8fd3-d43a814badad",
   "metadata": {},
   "outputs": [
    {
     "name": "stdout",
     "output_type": "stream",
     "text": [
      "Weather is Hot\n",
      "Drink Plenty of Water\n"
     ]
    }
   ],
   "source": [
    "is_hot = True\n",
    "is_cold = False\n",
    "\n",
    "if is_cold:\n",
    "    print(\"Weather is Cold\")\n",
    "    print(\"Wear warm Clothes\")\n",
    "elif is_hot:\n",
    "    print(\"Weather is Hot\")\n",
    "    print(\"Drink Plenty of Water\")\n",
    "else:\n",
    "    print(\"It's a Lovely Day\")\n",
    "  \n",
    "        "
   ]
  },
  {
   "cell_type": "code",
   "execution_count": 127,
   "id": "53c8f386-cc6a-4cd4-8ec7-7d2ec81da588",
   "metadata": {},
   "outputs": [
    {
     "name": "stdout",
     "output_type": "stream",
     "text": [
      "How much do you have money? 6000\n"
     ]
    },
    {
     "name": "stdout",
     "output_type": "stream",
     "text": [
      "You can Buy The House \n"
     ]
    }
   ],
   "source": [
    "price=input(\"How much do you have money?\")\n",
    "HousePrice=5000\n",
    "if  int(price)>=HousePrice:\n",
    "    print(\"You can Buy The House \")\n",
    "else:\n",
    "    print(\"You Cant Buy The House\")"
   ]
  },
  {
   "cell_type": "code",
   "execution_count": 135,
   "id": "a7910cb6-c86b-4a07-a310-f3888312a22a",
   "metadata": {},
   "outputs": [
    {
     "name": "stdout",
     "output_type": "stream",
     "text": [
      "Whats Your name lenght? 7\n"
     ]
    },
    {
     "name": "stdout",
     "output_type": "stream",
     "text": [
      "Your name is Good!!\n"
     ]
    }
   ],
   "source": [
    "name=input(\"Whats Your name lenght?\")\n",
    "if int(len(name))>=15:\n",
    "    print(\"Your name Lenght is bigger than fivetenn\")\n",
    "elif int(len(name))>50:\n",
    "     print(\"Your name Lenght is bigger than fivety\")\n",
    "else :\n",
    "    print(\"Your name is Good!!\")\n",
    "    "
   ]
  },
  {
   "cell_type": "code",
   "execution_count": 186,
   "id": "41e13250-97ac-490d-a9cc-6993575c3dbe",
   "metadata": {},
   "outputs": [
    {
     "name": "stdout",
     "output_type": "stream",
     "text": [
      "Weight:  75\n",
      "(L)bs or (K)g:  L\n"
     ]
    },
    {
     "name": "stdout",
     "output_type": "stream",
     "text": [
      "Your converted weight in Kg: 33.75\n"
     ]
    }
   ],
   "source": [
    "weight = input(\"Weight: \")\n",
    "select = input(\"(L)bs or (K)g: \")\n",
    "\n",
    "if select.upper() == \"L\":\n",
    "    converted = float(weight) * 0.45\n",
    "    print(f\"Your converted weight in Kg: {converted}\")\n",
    "elif select.upper() == \"K\":\n",
    "    converted = float(weight) / 0.45\n",
    "    print(f\"Your converted weight in Lbs: {converted}\")\n",
    "else:\n",
    "    print(\"Please select the correct option (L or K)\")"
   ]
  },
  {
   "cell_type": "code",
   "execution_count": 194,
   "id": "71193218-3c06-4564-b97a-03cbd84f7bb5",
   "metadata": {},
   "outputs": [
    {
     "name": "stdout",
     "output_type": "stream",
     "text": [
      "Weight: 75\n",
      "Lbs or Kg L\n"
     ]
    },
    {
     "name": "stdout",
     "output_type": "stream",
     "text": [
      "Your Converted Lbs in 33.75\n"
     ]
    }
   ],
   "source": [
    "weight=int(input(\"Weight:\"))\n",
    "select=input(\"Lbs or Kg\")\n",
    "if select.upper()==\"L\":\n",
    "  converted=weight*0.45\n",
    "  print(f\"Your Converted Lbs in {converted}\")\n",
    "elif select.upper()==\"K\" :\n",
    "    converted=weight*0.45\n",
    "    print(f\"Your Converted Kg in {converted}\")\n",
    "else:\n",
    "    print(\"Pls Select The Right Worse (L or K)\")"
   ]
  },
  {
   "cell_type": "code",
   "execution_count": 215,
   "id": "41a27eab-73e5-4583-adf5-004aeebceaa4",
   "metadata": {},
   "outputs": [
    {
     "name": "stdout",
     "output_type": "stream",
     "text": [
      "İsminiz Nedir: Kerim\n",
      "Yaşınız Kaç: 15\n",
      "Öğrenim Gördügünüz Egitim: ortaokul\n"
     ]
    },
    {
     "name": "stdout",
     "output_type": "stream",
     "text": [
      "Kerim Ehliyet alma kosullarını Gecemedeniz \n"
     ]
    }
   ],
   "source": [
    "isim=input(\"İsminiz Nedir:\")\n",
    "yas=int(input(\"Yaşınız Kaç:\"))\n",
    "egitim=input(\"Öğrenim Gördügünüz Egitim:\")\n",
    "if yas>=18 :\n",
    "      if egitim==\"universte\" or  egitim==\"lise\" :\n",
    "         print(f\"{isim} Ehliyet alma kosullarını Gectiniz Tebrikler\")\n",
    "      else:\n",
    "          print(f\"{isim} Öğrenim gördügünüz Yer Uyusmuyor\")\n",
    "else :\n",
    "    print(f\"{isim} Ehliyet alma kosullarını Gecemedeniz \")"
   ]
  },
  {
   "cell_type": "code",
   "execution_count": 225,
   "id": "272ac36e-5af0-48b8-bad2-58b04114d46d",
   "metadata": {},
   "outputs": [
    {
     "name": "stdout",
     "output_type": "stream",
     "text": [
      "1 Yazılı Puan : 100\n",
      "2 Yazılı Puan : 90\n",
      "Sözlü Notunuz : 90\n"
     ]
    },
    {
     "name": "stdout",
     "output_type": "stream",
     "text": [
      "Ortlamanız:93.33333333333333\n"
     ]
    }
   ],
   "source": [
    "yazılı1=int(input(\"1 Yazılı Puan :\"))\n",
    "yazılı2=int(input(\"2 Yazılı Puan :\"))\n",
    "Sozlu=int(input(\"Sözlü Notunuz :\"))\n",
    "ort=(yazılı1+yazılı2+Sozlu)/3\n",
    "if ort>0 and  ort<24 :\n",
    "    print(f\"Ortalamanız:{ort}\")\n",
    "if ort>25 and ort<44 :\n",
    "    print(f\"Ortlamanız:{ort}\")\n",
    "if ort>45 and ort<54 :\n",
    "    print(f\"Ortlamanız:{ort}\")\n",
    "if ort>45 and ort<54 :\n",
    "    print(f\"Ortlamanız:{ort}\")\n",
    "if ort>55 and ort<69 :\n",
    "    print(f\"Ortlamanız:{ort}\")\n",
    "if ort>70 and ort<85 :\n",
    "    print(f\"Ortlamanız:{ort}\")\n",
    "if ort>86 and ort<100 :\n",
    "    print(f\"Ortlamanız:{ort}\")    \n",
    "    \n"
   ]
  },
  {
   "cell_type": "code",
   "execution_count": 229,
   "id": "44f56ea0-7ffe-4d94-8212-52861d2605c2",
   "metadata": {},
   "outputs": [
    {
     "name": "stdout",
     "output_type": "stream",
     "text": [
      "Emailiniz Giriniz: k\n",
      "Sifrenizi Giriniz: k\n"
     ]
    },
    {
     "name": "stdout",
     "output_type": "stream",
     "text": [
      "Kullanıcı adı veya sifre hatalı\n"
     ]
    }
   ],
   "source": [
    "email=\"kerimozyıldız@gmail.com\"\n",
    "sifre=\"kerimkerim\"\n",
    "giremail=input(\"Emailiniz Giriniz:\")\n",
    "girsifre=input(\"Sifrenizi Giriniz:\")\n",
    "if(giremail==email):\n",
    "    if(girsifre==sifre):\n",
    "        print(\"Giris Basarılı\")\n",
    "else:\n",
    "    print(\"Kullanıcı adı veya sifre hatalı\")"
   ]
  },
  {
   "cell_type": "code",
   "execution_count": 231,
   "id": "0d399755-b12b-4b5e-b648-e2203fa70b18",
   "metadata": {},
   "outputs": [
    {
     "name": "stdout",
     "output_type": "stream",
     "text": [
      "Birinci Sayıyı Giriniz: 15\n",
      "İkinci Sayıyı Giriniz: 25\n",
      "Üçüncü Sayıyı Giriniz: 35\n"
     ]
    },
    {
     "name": "stdout",
     "output_type": "stream",
     "text": [
      "En büyük sayı Şudur:35\n"
     ]
    }
   ],
   "source": [
    "say1=int(input(\"Birinci Sayıyı Giriniz:\"))\n",
    "say2=int(input(\"İkinci Sayıyı Giriniz:\"))\n",
    "say3=int(input(\"Üçüncü Sayıyı Giriniz:\"))\n",
    "\n",
    "if say1>say2 and say1>say3:\n",
    "    print(f\"En büyük sayı Şudur:{say1}\")\n",
    "elif say2>say1 and say2>say3:\n",
    "    print(f\"En büyük sayı Şudur:{say2}\")\n",
    "elif say3>say1 and say3>say2:\n",
    "    print(f\"En büyük sayı Şudur:{say3}\")\n",
    "else:\n",
    "    print(\"Lütfen sayıları Doğru Giriniz:\")"
   ]
  },
  {
   "cell_type": "code",
   "execution_count": 242,
   "id": "de793426-43b2-47b4-9c15-e219355fb0e4",
   "metadata": {},
   "outputs": [
    {
     "name": "stdout",
     "output_type": "stream",
     "text": [
      "Vize Notunuzu Giriniz: 100\n",
      "Final Notunzu Giriniz: 40\n"
     ]
    },
    {
     "name": "stdout",
     "output_type": "stream",
     "text": [
      "Final Notunuz 50 den Küçük Oldugu İçin Kaldınız\n"
     ]
    }
   ],
   "source": [
    "vize=int(input(\"Vize Notunuzu Giriniz:\"))\n",
    "final=int(input(\"Final Notunzu Giriniz:\"))\n",
    "ortalama=(vize*0.40)+(final*0.60)\n",
    "\n",
    "if (final<50):\n",
    "    print(\"Final Notunuz 50 den Küçük Oldugu İçin Kaldınız\")\n",
    "    \n",
    "elif (ortalama>=50) :\n",
    "         print(f\" Geçtiniz Ortalamınız Şudur:{ortalama}\")\n",
    "else:\n",
    "    print(f\"Kaldınız Ortalamınız Şudur:{ortalama}\")\n",
    "          "
   ]
  },
  {
   "cell_type": "code",
   "execution_count": 19,
   "id": "ad0009c0-5c23-465c-ae89-bb786e18abf1",
   "metadata": {},
   "outputs": [
    {
     "name": "stdout",
     "output_type": "stream",
     "text": [
      "1\n",
      "2\n",
      "3\n",
      "4\n",
      "5\n",
      "Done\n"
     ]
    }
   ],
   "source": [
    "i=1\n",
    "while i<=5:\n",
    "    print(i)\n",
    "    i=i+1\n",
    "print(\"Done\")   "
   ]
  },
  {
   "cell_type": "code",
   "execution_count": 25,
   "id": "bb6cd300-3561-4814-954d-9ca28b3d06a4",
   "metadata": {},
   "outputs": [
    {
     "name": "stdout",
     "output_type": "stream",
     "text": [
      "*****\n",
      "****\n",
      "***\n",
      "**\n",
      "*\n"
     ]
    }
   ],
   "source": [
    "i=5\n",
    "while i>=1:\n",
    "     print(\"*\"*i)\n",
    "     i=i-1\n",
    "     "
   ]
  },
  {
   "cell_type": "code",
   "execution_count": 37,
   "id": "4629b707-edc2-4649-b1a1-12002288b791",
   "metadata": {},
   "outputs": [
    {
     "name": "stdout",
     "output_type": "stream",
     "text": [
      "Guess: 1\n"
     ]
    },
    {
     "name": "stdout",
     "output_type": "stream",
     "text": [
      "Yanlış Sayı Lütfen Tekrar Giriniz.\n"
     ]
    },
    {
     "name": "stdout",
     "output_type": "stream",
     "text": [
      "Guess: 2\n"
     ]
    },
    {
     "name": "stdout",
     "output_type": "stream",
     "text": [
      "Yanlış Sayı Lütfen Tekrar Giriniz.\n"
     ]
    },
    {
     "name": "stdout",
     "output_type": "stream",
     "text": [
      "Guess: 3\n"
     ]
    },
    {
     "name": "stdout",
     "output_type": "stream",
     "text": [
      "Yanlış Sayı Lütfen Tekrar Giriniz.\n",
      "Hakkınız Dolmustur Görüsürüz\n"
     ]
    }
   ],
   "source": [
    "sayi=9\n",
    "hak=1\n",
    "while hak<=3:\n",
    "    tahminet=int(input(\"Guess:\"))\n",
    "    hak=hak+1\n",
    "    if(sayi==tahminet):\n",
    "        print(\"Tebrikler Dogru Sayıyı Buldun\")\n",
    "        break\n",
    "    else:\n",
    "        print(\"Yanlış Sayı Lütfen Tekrar Giriniz.\")\n",
    "else:\n",
    " print(\"Hakkınız Dolmustur Görüsürüz\")        "
   ]
  },
  {
   "cell_type": "code",
   "execution_count": 1,
   "id": "02243564-27b1-4f0e-9978-48fd76a7b4eb",
   "metadata": {},
   "outputs": [
    {
     "name": "stdout",
     "output_type": "stream",
     "text": [
      "> start\n"
     ]
    },
    {
     "name": "stdout",
     "output_type": "stream",
     "text": [
      "start the car\n"
     ]
    },
    {
     "name": "stdout",
     "output_type": "stream",
     "text": [
      "> start\n"
     ]
    },
    {
     "name": "stdout",
     "output_type": "stream",
     "text": [
      "Car is Already Started\n"
     ]
    },
    {
     "name": "stdout",
     "output_type": "stream",
     "text": [
      "> stop\n"
     ]
    },
    {
     "name": "stdout",
     "output_type": "stream",
     "text": [
      "stop the car\n"
     ]
    },
    {
     "name": "stdout",
     "output_type": "stream",
     "text": [
      "> stop\n"
     ]
    },
    {
     "name": "stdout",
     "output_type": "stream",
     "text": [
      "Car Already Stopped\n"
     ]
    },
    {
     "name": "stdout",
     "output_type": "stream",
     "text": [
      "> help\n"
     ]
    },
    {
     "name": "stdout",
     "output_type": "stream",
     "text": [
      "start- start the car\n",
      "stop - stop the car\n",
      "quit - to quit\n"
     ]
    },
    {
     "name": "stdout",
     "output_type": "stream",
     "text": [
      "> quit\n"
     ]
    },
    {
     "name": "stdout",
     "output_type": "stream",
     "text": [
      "doing quit\n"
     ]
    }
   ],
   "source": [
    "giris=\"\"\n",
    "started=False\n",
    "while giris.lower()!=\"quit\":\n",
    "       giris=input(\">\").lower()\n",
    "       if(giris==\"start\"):\n",
    "           if started:\n",
    "               print(\"Car is Already Started\")\n",
    "           else:\n",
    "               started=True \n",
    "               print(\"start the car\")\n",
    "       elif(giris==\"stop\"):\n",
    "           if not started:\n",
    "               print(\"Car Already Stopped\")\n",
    "           else:\n",
    "               started=False\n",
    "               print(\"stop the car\")\n",
    "       elif (giris==\"help\"):\n",
    "         print(\"start- start the car\")\n",
    "         print(\"stop - stop the car\")\n",
    "         print(\"quit - to quit\")\n",
    "       elif (giris==\"quit\"):\n",
    "         print(\"doing quit\")\n",
    "         break\n",
    "       else:\n",
    "         print(\"I dont undrestand please select the right keys\")\n",
    "         \n",
    "        \n",
    "            \n",
    "         \n",
    "\n"
   ]
  },
  {
   "cell_type": "code",
   "execution_count": 39,
   "id": "a4fcc205-5445-4908-bca8-c1e9782a8075",
   "metadata": {},
   "outputs": [
    {
     "name": "stdout",
     "output_type": "stream",
     "text": [
      "1-5 Arasında Sayı Giriniz: 1\n"
     ]
    },
    {
     "name": "stdout",
     "output_type": "stream",
     "text": [
      "1 Girdiginiz için Döngü Devam Ediyor\n"
     ]
    },
    {
     "name": "stdout",
     "output_type": "stream",
     "text": [
      "1-5 Arasında Sayı Giriniz: 2\n"
     ]
    },
    {
     "name": "stdout",
     "output_type": "stream",
     "text": [
      "2 Girdiginiz için Döngü Devam Ediyor\n"
     ]
    },
    {
     "name": "stdout",
     "output_type": "stream",
     "text": [
      "1-5 Arasında Sayı Giriniz: 3\n"
     ]
    },
    {
     "name": "stdout",
     "output_type": "stream",
     "text": [
      "3 Girdiginiz İçin Döngüden Cıkıyorsnuz\n"
     ]
    }
   ],
   "source": [
    "while True:\n",
    "    sayi=int(input(\"1-5 Arasında Sayı Giriniz:\"))\n",
    "    if(sayi>5):\n",
    "             print(f\"{sayi} 5 ten BÜYÜK OLDUGU İÇİN Döngü Sonlanıyor\")\n",
    "             break\n",
    "    elif(sayi==3):\n",
    "             print(f\"{sayi} Girdiginiz İçin Döngüden Cıkıyorsnuz\")\n",
    "             break\n",
    "    else: \n",
    "             print(f\"{sayi} Girdiginiz için Döngü Devam Ediyor\")\n",
    "\n",
    "\n",
    "     \n",
    "    "
   ]
  },
  {
   "cell_type": "code",
   "execution_count": 72,
   "id": "4c64514e-79f9-4bf3-a343-1d225c458477",
   "metadata": {},
   "outputs": [
    {
     "name": "stdout",
     "output_type": "stream",
     "text": [
      "Sifrenizi Giriniz:  14785\n"
     ]
    },
    {
     "name": "stdout",
     "output_type": "stream",
     "text": [
      "5 Haneli Şifreniz 8 Haneye Eşit Olmadıgı İçin Tekrar Şifre Oluşturunuz\n"
     ]
    },
    {
     "name": "stdout",
     "output_type": "stream",
     "text": [
      "Sifrenizi Giriniz:  12345678\n"
     ]
    },
    {
     "name": "stdout",
     "output_type": "stream",
     "text": [
      "8 Şifreniz Kaydedildi.\n"
     ]
    }
   ],
   "source": [
    "while True:\n",
    "    sifre=input(\"Sifrenizi Giriniz: \")\n",
    "    if len(sifre)==8:\n",
    "        print(f\"{len(sifre)} Şifreniz Kaydedildi.\")\n",
    "        break\n",
    "    else: \n",
    "        print(f\"{len(sifre)} Haneli Şifreniz 8 Haneye Eşit Olmadıgı İçin Tekrar Şifre Oluşturunuz\")\n",
    "                  "
   ]
  },
  {
   "cell_type": "code",
   "execution_count": 80,
   "id": "ead15e8e-7d64-45eb-92aa-e6f9b0cbbb18",
   "metadata": {},
   "outputs": [
    {
     "name": "stdout",
     "output_type": "stream",
     "text": [
      "Adınızı Giriniz: AslıDemircan\n"
     ]
    },
    {
     "name": "stdout",
     "output_type": "stream",
     "text": [
      "A\n",
      "s\n",
      "l\n",
      "ı\n",
      "D\n",
      "e\n",
      "m\n",
      "i\n",
      "r\n",
      "c\n",
      "a\n",
      "n\n",
      "İsmini Alt Alta Yazdırdım.\n"
     ]
    }
   ],
   "source": [
    "isim=input(\"Adınızı Giriniz:\")\n",
    "sayac=0\n",
    "while sayac<len(isim):\n",
    "         print(isim[sayac])\n",
    "         sayac=sayac+1\n",
    "else:\n",
    "         print(\"İsmini Alt Alta Yazdırdım.\")\n",
    "    "
   ]
  },
  {
   "cell_type": "code",
   "execution_count": 100,
   "id": "d8aa03e5-b6e7-4f64-b9fb-8ef486dd975b",
   "metadata": {},
   "outputs": [
    {
     "name": "stdout",
     "output_type": "stream",
     "text": [
      "1-20 Arasında Lütfen Sayı Giriniz: 5\n"
     ]
    },
    {
     "name": "stdout",
     "output_type": "stream",
     "text": [
      "Dogru Sayiyi Girdiniz Tebrikler.\n"
     ]
    }
   ],
   "source": [
    "from random import randint\n",
    "rand=randint(1,20)\n",
    "hak=0\n",
    "while hak<5:\n",
    "    sayi=int(input(\"1-20 Arasında Lütfen Sayı Giriniz:\"))\n",
    "    if(sayi>20):\n",
    "        print(\"20 den Büyük Sayı Girdiginiz İçin Oyunu Kaybettiniz.\")\n",
    "        break\n",
    "    if(sayi==0):\n",
    "        print(\"Tahmin Oyununu İptal Ettiniz Çıkıs Yapılıyor.\")\n",
    "        break\n",
    "    elif sayi<rand:\n",
    "        hak=hak+1\n",
    "        print(\"Lütfen Daha Büyük Sayı Giriniz.\")\n",
    "        continue\n",
    "    elif sayi>rand:\n",
    "        hak=hak+1\n",
    "        print(\"Lütfen Daha Küçük Sayi Giriniz.\")\n",
    "        continue \n",
    "    elif sayi==rand:\n",
    "        print(\"Dogru Sayiyi Girdiniz Tebrikler.\")\n",
    "        break\n",
    "    else:\n",
    "        print(\"Lütfen 1-20 Arasında Sayı Giriniz.\")\n",
    "else:\n",
    "    print(\"Hak Sayınız Dolmustur Kaybettiniz.\")"
   ]
  },
  {
   "cell_type": "code",
   "execution_count": 104,
   "id": "a7513b54-b3a8-4c9b-bbd0-fdd9dd48d069",
   "metadata": {},
   "outputs": [
    {
     "name": "stdout",
     "output_type": "stream",
     "text": [
      "Total=100\n"
     ]
    }
   ],
   "source": [
    "prices=[10,20,30,40]\n",
    "total=0\n",
    "for i in prices:\n",
    "    total+=i\n",
    "    \n",
    "print(f\"Total={total}\")"
   ]
  },
  {
   "cell_type": "code",
   "execution_count": 108,
   "id": "e9e3cec0-0a4c-468a-8d66-0c151e6fabc6",
   "metadata": {},
   "outputs": [
    {
     "name": "stdout",
     "output_type": "stream",
     "text": [
      "(0),(0)\n",
      "(0),(1)\n",
      "(0),(2)\n",
      "(1),(0)\n",
      "(1),(1)\n",
      "(1),(2)\n",
      "(2),(0)\n",
      "(2),(1)\n",
      "(2),(2)\n",
      "(3),(0)\n",
      "(3),(1)\n",
      "(3),(2)\n"
     ]
    }
   ],
   "source": [
    "for x in range(4):\n",
    "    for y in range(3):\n",
    "        print(f\"({x}),({y})\")"
   ]
  },
  {
   "cell_type": "code",
   "execution_count": 122,
   "id": "ddb52a2b-49b2-4ad8-9d72-3ea9f8015080",
   "metadata": {},
   "outputs": [
    {
     "name": "stdout",
     "output_type": "stream",
     "text": [
      "Sayi Giriniz: 97\n"
     ]
    },
    {
     "name": "stdout",
     "output_type": "stream",
     "text": [
      "97 Sayisi  Asaldır.\n"
     ]
    }
   ],
   "source": [
    "sayi=int(input(\"Sayi Giriniz:\"))\n",
    "for  i in range(2,sayi):\n",
    "         if sayi%i==0:\n",
    "           print(f\"{sayi} Sayisi Asal Degildir.\")\n",
    "           break\n",
    "else:\n",
    "     print(f\"{sayi} Sayisi  Asaldır.\")\n",
    "\n"
   ]
  },
  {
   "cell_type": "code",
   "execution_count": 130,
   "id": "27ace968-8164-445b-a3c7-510c2b62da01",
   "metadata": {},
   "outputs": [
    {
     "name": "stdout",
     "output_type": "stream",
     "text": [
      "Sayi Giriniz: 15\n"
     ]
    },
    {
     "name": "stdout",
     "output_type": "stream",
     "text": [
      "Çift Sayıların Toplamı 56\n"
     ]
    }
   ],
   "source": [
    "sayi=int(input(\"Sayi Giriniz:\"))\n",
    "toplam=0\n",
    "for i in range(2,sayi+1,2):\n",
    "    toplam+=i\n",
    "print(f\"Çift Sayıların Toplamı {toplam}\")"
   ]
  },
  {
   "cell_type": "code",
   "execution_count": 136,
   "id": "7a37f7c7-0b4e-4986-a41a-2671569e2b37",
   "metadata": {},
   "outputs": [
    {
     "name": "stdout",
     "output_type": "stream",
     "text": [
      "Kaça Kadar Çarpımları İstiyorsunuz: 5\n"
     ]
    },
    {
     "name": "stdout",
     "output_type": "stream",
     "text": [
      "1*1=1\n",
      "1*2=2\n",
      "1*3=3\n",
      "1*4=4\n",
      "1*5=5\n",
      "2*1=2\n",
      "2*2=4\n",
      "2*3=6\n",
      "2*4=8\n",
      "2*5=10\n",
      "3*1=3\n",
      "3*2=6\n",
      "3*3=9\n",
      "3*4=12\n",
      "3*5=15\n",
      "4*1=4\n",
      "4*2=8\n",
      "4*3=12\n",
      "4*4=16\n",
      "4*5=20\n",
      "5*1=5\n",
      "5*2=10\n",
      "5*3=15\n",
      "5*4=20\n",
      "5*5=25\n"
     ]
    }
   ],
   "source": [
    "carpım=1\n",
    "sayi=int(input(\"Kaça Kadar Çarpımları İstiyorsunuz:\"))\n",
    "for i in range(1,sayi+1):\n",
    "    for j in range(1,sayi+1):\n",
    "        carpım=i*j\n",
    "        print(f\"{i}*{j}={carpım}\")\n",
    "        \n"
   ]
  },
  {
   "cell_type": "code",
   "execution_count": 138,
   "id": "17e6d948-1bdc-4f0c-98a5-46153394e75d",
   "metadata": {},
   "outputs": [
    {
     "name": "stdout",
     "output_type": "stream",
     "text": [
      "Birinci Sayiyi Giriniz: 5\n",
      "ikinci Sayiyi Giriniz: 9\n"
     ]
    },
    {
     "name": "stdout",
     "output_type": "stream",
     "text": [
      "Verilen Sayıların Arasındaki Sayıların Toplamı=21\n"
     ]
    }
   ],
   "source": [
    "sayi1=int(input(\"Birinci Sayiyi Giriniz:\"))\n",
    "sayi2=int(input(\"ikinci Sayiyi Giriniz:\"))\n",
    "toplam=0\n",
    "for i in range(sayi1+1,sayi2):\n",
    "    toplam+=i\n",
    "print(f\"Verilen Sayıların Arasındaki Sayıların Toplamı={toplam}\")\n",
    "          "
   ]
  },
  {
   "cell_type": "code",
   "execution_count": 140,
   "id": "0bc312fb-7778-481e-ace2-37963ced2f47",
   "metadata": {},
   "outputs": [
    {
     "name": "stdout",
     "output_type": "stream",
     "text": [
      "xxxxx\n",
      "xx\n",
      "xxxxx\n",
      "xx\n",
      "xx\n"
     ]
    }
   ],
   "source": [
    "numbers=[5,2,5,2,2]\n",
    "for i in numbers:\n",
    "    print(\"x\"*i)"
   ]
  },
  {
   "cell_type": "code",
   "execution_count": 148,
   "id": "a3420c30-d873-44b2-90c2-f4cefebeb943",
   "metadata": {},
   "outputs": [
    {
     "name": "stdout",
     "output_type": "stream",
     "text": [
      "Bir İsim Giriniz: KERİM\n"
     ]
    },
    {
     "name": "stdout",
     "output_type": "stream",
     "text": [
      "M\n",
      "İ\n",
      "R\n",
      "E\n",
      "K\n"
     ]
    }
   ],
   "source": [
    "gir=input(\"Bir İsim Giriniz:\")\n",
    "for i in reversed(gir):\n",
    "    print(i)\n",
    "    \n"
   ]
  },
  {
   "cell_type": "code",
   "execution_count": 152,
   "id": "4307be1b-2bc0-434a-9ccd-395eb708e83a",
   "metadata": {},
   "outputs": [
    {
     "name": "stdout",
     "output_type": "stream",
     "text": [
      "Sayi Gir: 15\n"
     ]
    },
    {
     "name": "stdout",
     "output_type": "stream",
     "text": [
      "3 e Tam Bölünmeyen Sayılar Şunlardır:1\n",
      "3 e Tam Bölünmeyen Sayılar Şunlardır:2\n",
      "3 e Tam Bölünen Sayılar Bunlardır:3\n",
      "3 e Tam Bölünmeyen Sayılar Şunlardır:4\n",
      "3 e Tam Bölünmeyen Sayılar Şunlardır:5\n",
      "3 e Tam Bölünen Sayılar Bunlardır:6\n",
      "3 e Tam Bölünmeyen Sayılar Şunlardır:7\n",
      "3 e Tam Bölünmeyen Sayılar Şunlardır:8\n",
      "3 e Tam Bölünen Sayılar Bunlardır:9\n",
      "3 e Tam Bölünmeyen Sayılar Şunlardır:10\n",
      "3 e Tam Bölünmeyen Sayılar Şunlardır:11\n",
      "3 e Tam Bölünen Sayılar Bunlardır:12\n",
      "3 e Tam Bölünmeyen Sayılar Şunlardır:13\n",
      "3 e Tam Bölünmeyen Sayılar Şunlardır:14\n",
      "3 e Tam Bölünen Sayılar Bunlardır:15\n"
     ]
    }
   ],
   "source": [
    "sayi=int(input(\"Sayi Gir:\"))\n",
    "for i in range(1,sayi+1):\n",
    "         if(i%3==0):\n",
    "           print(f\"3 e Tam Bölünen Sayılar Bunlardır:{i}\")\n",
    "         else:\n",
    "           print(f\"3 e Tam Bölünmeyen Sayılar Şunlardır:{i}\")\n"
   ]
  },
  {
   "cell_type": "code",
   "execution_count": 159,
   "id": "4d4574b1-3f55-4e64-aace-febf253e98e2",
   "metadata": {},
   "outputs": [
    {
     "name": "stdout",
     "output_type": "stream",
     "text": [
      "0:Kiraz\n",
      "1:Ananas\n",
      "2:Muz\n"
     ]
    }
   ],
   "source": [
    "meyveler=[\"Kiraz\",\"Ananas\",\"Muz\"]\n",
    "for indeks,meyve in enumerate(meyveler):\n",
    "    print(f\"{indeks}:{meyve}\")\n",
    "    \n",
    "          \n",
    "  "
   ]
  },
  {
   "cell_type": "code",
   "execution_count": 161,
   "id": "8a3982d0-feda-45c1-a1c7-d2612398abde",
   "metadata": {},
   "outputs": [
    {
     "name": "stdout",
     "output_type": "stream",
     "text": [
      "51\n"
     ]
    }
   ],
   "source": [
    "sayılar=[5,3,2,51,32,12]\n",
    "max=sayılar[0]\n",
    "for i in sayılar:\n",
    "    if i>max:\n",
    "        max=i\n",
    "print(max)        "
   ]
  },
  {
   "cell_type": "code",
   "execution_count": 182,
   "id": "3ad6ccb2-71b9-4324-9642-7ef7109d8a5a",
   "metadata": {},
   "outputs": [
    {
     "name": "stdout",
     "output_type": "stream",
     "text": [
      "[5151, 1613, 40, 234, 232, 15, 10, 5, 5]\n"
     ]
    }
   ],
   "source": [
    "numbers=[5,232,15,1613,234,5151,5]\n",
    "numbers.append(10)\n",
    "numbers.sort()\n",
    "numbers.reverse()\n",
    "numbers.insert(2,40)\n",
    "\n",
    "\n",
    "\n",
    "print(numbers)"
   ]
  },
  {
   "cell_type": "code",
   "execution_count": 184,
   "id": "dd6920ab-9875-42b7-a0cf-3da8f471031c",
   "metadata": {},
   "outputs": [
    {
     "name": "stdout",
     "output_type": "stream",
     "text": [
      "Sayi Giriniz: 5\n"
     ]
    },
    {
     "name": "stdout",
     "output_type": "stream",
     "text": [
      "Faktoryelin Cevabi:120\n"
     ]
    }
   ],
   "source": [
    "sayi=int(input(\"Sayi Giriniz:\"))\n",
    "carpım=1\n",
    "for i in range(1,sayi+1):\n",
    "    carpım*=i\n",
    "print(f\"Faktoryelin Cevabi:{carpım}\")"
   ]
  },
  {
   "cell_type": "code",
   "execution_count": 208,
   "id": "7426b3b6-6310-4bcf-b9ce-7345359bfec4",
   "metadata": {},
   "outputs": [
    {
     "name": "stdout",
     "output_type": "stream",
     "text": [
      "29 Eylül 2004\n"
     ]
    }
   ],
   "source": [
    "customer={\n",
    "     \"name\":\"Kerim Ozyildiz\",\n",
    "      \"age\":20,\n",
    "      \"city\":\"Fethiye\"\n",
    "}\n",
    "customer[\"birthdate\"]=\"29 Eylül 2004\"\n",
    "print(customer[\"birthdate\"])"
   ]
  },
  {
   "cell_type": "code",
   "execution_count": 214,
   "id": "34ab9245-5717-4434-b939-faab61cf0463",
   "metadata": {},
   "outputs": [
    {
     "name": "stdout",
     "output_type": "stream",
     "text": [
      "Phone Number: 123456\n"
     ]
    },
    {
     "name": "stdout",
     "output_type": "stream",
     "text": [
      "One Two Three Four ! ! \n"
     ]
    }
   ],
   "source": [
    "telefon=input(\"Phone Number:\")\n",
    "digitals_map={\n",
    "    \"0\":\"Zero\",\n",
    "    \"1\":\"One\",\n",
    "    \"2\":\"Two\",\n",
    "    \"3\":\"Three\",\n",
    "    \"4\":\"Four\",\n",
    "    \"5\":\"Five\",\n",
    "    \"6\":\"Six\",\n",
    "    \"7\":\"Seven\",\n",
    "}\n",
    "output=\"\"\n",
    "for ch in telefon:\n",
    "    output+=digitals_map.get(ch,\"!\")+\" \" \n",
    "print(output) \n",
    "    "
   ]
  },
  {
   "cell_type": "code",
   "execution_count": 5,
   "id": "ea5d9ad9-e73e-4f86-afb7-1e9a1c23abe3",
   "metadata": {},
   "outputs": [
    {
     "name": "stdout",
     "output_type": "stream",
     "text": [
      "Bir İsim Giriniz: Kerim\n"
     ]
    },
    {
     "name": "stdout",
     "output_type": "stream",
     "text": [
      "m\n",
      "i\n",
      "r\n",
      "e\n",
      "K\n"
     ]
    }
   ],
   "source": [
    "gir=input(\"Bir İsim Giriniz:\")\n",
    "\n",
    "for i in reversed(gir):\n",
    "    print(i)"
   ]
  },
  {
   "cell_type": "code",
   "execution_count": 44,
   "id": "f11267e8-286c-4eaf-bda8-b50fe004808f",
   "metadata": {},
   "outputs": [
    {
     "name": "stdout",
     "output_type": "stream",
     "text": [
      "Hoşgeldiniz KRM ATM YE Size Nasıl Yardımcı Olabilirim?\n",
      "*******************************************************\n",
      "Para Çekmek İçin 1'e Basınız.\n",
      "Para Yatırmak İçin 2'ye Basınız.\n",
      "Kredi Almak İçin 3'e Basınız.\n"
     ]
    },
    {
     "name": "stdout",
     "output_type": "stream",
     "text": [
      "Yapacağınız İşlemi Lütfen Seçiniz:  1\n",
      "Ne kadar Paranız Olduğunu Lütfen Giriniz:  5000\n",
      "Ne Kadar Para Çekmek İstiyorsunuz:  6000\n"
     ]
    },
    {
     "name": "stdout",
     "output_type": "stream",
     "text": [
      "Yeterli Bakiyeniz Olmadığı İçin Para Çekimi Yapamıyorsunuz.\n",
      "Bankamızı Seçtiğiniz İçin Teşekkürler. İyi Günler Dileriz.\n"
     ]
    }
   ],
   "source": [
    "KalanTutar = 0\n",
    "ToplamTutar = 0\n",
    "KrediMiktarı = 3\n",
    "print(\"Hoşgeldiniz KRM ATM YE Size Nasıl Yardımcı Olabilirim?\")\n",
    "print(\"*******************************************************\")\n",
    "\n",
    "while True:\n",
    "    \n",
    "\n",
    "    print(\"Para Çekmek İçin 1'e Basınız.\")\n",
    "    print(\"Para Yatırmak İçin 2'ye Basınız.\")\n",
    "    print(\"Kredi Almak İçin 3'e Basınız.\")\n",
    "    islem = input(\"Yapacağınız İşlemi Lütfen Seçiniz: \")\n",
    "    paraTutarı = int(input(\"Ne kadar Paranız Olduğunu Lütfen Giriniz: \"))\n",
    "\n",
    "\n",
    "    if islem == \"1\":\n",
    "        paracek = int(input(\"Ne Kadar Para Çekmek İstiyorsunuz: \"))\n",
    "        KalanTutar = paraTutarı - paracek\n",
    "        if(paracek>paraTutarı):\n",
    "            print(\"Yeterli Bakiyeniz Olmadığı İçin Para Çekimi Yapamıyorsunuz.\")\n",
    "            break\n",
    "        elif paraTutarı > 0:\n",
    "            print(f\"İşleminiz Başarıyla Gerçekleşmiştir. Kalan Tutarınız: {KalanTutar}\")\n",
    "            break\n",
    "        else:\n",
    "            print(\"Yeterli Bakiyeniz Olmadığı İçin Para Çekimi Yapamıyorsunuz.\")\n",
    "            break\n",
    "\n",
    "    elif islem == \"2\":\n",
    "        paraYatır = int(input(\"Ne Kadar Para Yatırmak İstiyorsunuz: \"))\n",
    "        ToplamTutar = paraTutarı + paraYatır\n",
    "        print(f\"Para Yatırma İşleminiz Gerçekleşmiştir. Toplam Tutar: {ToplamTutar}\")\n",
    "        break\n",
    "\n",
    "    elif islem == \"3\":\n",
    "        print(\"Kredi Çekmek İstiyorsanız Bankanızda En Az 10.000 TL'niz Olması Gerekiyor\")\n",
    "        if paraTutarı < 10000:\n",
    "            print(f\"Para Tutarınız 10.000 TL'den Az Olduğu İçin Kredi Alamazsınız. Para Miktarınız: {paraTutarı}\")\n",
    "        else:\n",
    "            KrediMiktarı = paraTutarı * (10 / 100)\n",
    "            print(f\"Kredi İşleminiz Başarıyla Tamamlanmıştır. Kredi Miktarınız: {KrediMiktarı}\")\n",
    "        break\n",
    "\n",
    "    else:\n",
    "        print(\"Lütfen İşlem Seçimini Doğru Yapınız.\")\n",
    "       \n",
    "\n",
    "print(\"Bankamızı Seçtiğiniz İçin Teşekkürler. İyi Günler Dileriz.\")\n",
    "\n",
    "\n",
    "    \n",
    "\n"
   ]
  },
  {
   "cell_type": "code",
   "execution_count": 50,
   "id": "8745cf5b-afe7-4d5b-bd48-5867d0a8ef16",
   "metadata": {},
   "outputs": [
    {
     "name": "stdout",
     "output_type": "stream",
     "text": [
      "Karenin Bir Kenar Uzunlugunu Giriniz: 5\n"
     ]
    },
    {
     "name": "stdout",
     "output_type": "stream",
     "text": [
      "Sonuc:25\n"
     ]
    }
   ],
   "source": [
    "def square(a):\n",
    "    return a*a\n",
    "\n",
    "sayigir=int(input(\"Karenin Bir Kenar Uzunlugunu Giriniz:\"))\n",
    "sonuc=square(sayigir)\n",
    "print(f\"Sonuc:{sonuc}\")"
   ]
  },
  {
   "cell_type": "code",
   "execution_count": 58,
   "id": "7be34035-27f8-4a27-a69c-4e3aed89a96c",
   "metadata": {},
   "outputs": [
    {
     "name": "stdout",
     "output_type": "stream",
     "text": [
      "İsminiz=Kerim Soyisminiz:Özyıldız\n",
      "None\n"
     ]
    }
   ],
   "source": [
    "def isim_soyisim(first,last):\n",
    "    print(f\"İsminiz={first} Soyisminiz:{last}\")\n",
    "    return\n",
    "    \n",
    "\n",
    "göster=isim_soyisim(\"Kerim\",\"Özyıldız\")\n",
    "print(göster)"
   ]
  },
  {
   "cell_type": "code",
   "execution_count": 82,
   "id": "aee9d853-1bff-4fc4-9715-cafd39110fdd",
   "metadata": {},
   "outputs": [
    {
     "name": "stdout",
     "output_type": "stream",
     "text": [
      "Lütfen Sayı Giriniz: 0\n"
     ]
    },
    {
     "name": "stdout",
     "output_type": "stream",
     "text": [
      "Faktoryel Sonucunuz:1\n"
     ]
    }
   ],
   "source": [
    "def faktoryel(a):\n",
    "    carpim=1\n",
    "    if a<=0:\n",
    "        return 1\n",
    "    for i in range(1,a+1):\n",
    "        carpim*=i\n",
    "    return carpim\n",
    "\n",
    "\n",
    "sayigir=int(input(\"Lütfen Sayı Giriniz:\"))\n",
    "sonuc=faktoryel(sayigir)\n",
    "print(f\"Faktoryel Sonucunuz:{sonuc}\")\n",
    "        \n",
    "    \n",
    "        \n",
    "        "
   ]
  },
  {
   "cell_type": "code",
   "execution_count": 132,
   "id": "318082c4-bf84-446f-bcd4-73ca598b60f7",
   "metadata": {},
   "outputs": [
    {
     "name": "stdout",
     "output_type": "stream",
     "text": [
      "Lütfen Bir Sayi Giriniz: 7\n"
     ]
    },
    {
     "name": "stdout",
     "output_type": "stream",
     "text": [
      "Girdiğiniz Sayı Asal Sayıdır.\n"
     ]
    }
   ],
   "source": [
    "def asalbul(a):\n",
    "    if a<2:\n",
    "        return 0\n",
    "    for i in range(2,a):\n",
    "        if(a%i==0):\n",
    "            return 0\n",
    "    else:\n",
    "        return 1\n",
    "\n",
    "sayigir=int(input(\"Lütfen Bir Sayi Giriniz:\"))\n",
    "sonuc=asalbul(sayigir)\n",
    "if sonuc == 1:\n",
    "    print(\"Girdiğiniz Sayı Asal Sayıdır.\")\n",
    "else:\n",
    "    print(\"Girdiğiniz Sayı Asal Sayı Değildir.\")"
   ]
  },
  {
   "cell_type": "code",
   "execution_count": 140,
   "id": "c33e0835-29b6-4d65-8373-43bf564c6150",
   "metadata": {},
   "outputs": [
    {
     "name": "stdout",
     "output_type": "stream",
     "text": [
      "1 Sayıyı Giriniz: 50\n",
      "2 Sayıyı Giriniz: 15\n",
      "3 Sayıyı Giriniz: 30\n"
     ]
    },
    {
     "name": "stdout",
     "output_type": "stream",
     "text": [
      "Girdiginiz Sayıların En Büyüğü:50\n"
     ]
    }
   ],
   "source": [
    "def eb(a,b,c):\n",
    "    return max(a,b,c)\n",
    "\n",
    "sayi1=int(input(\"1 Sayıyı Giriniz:\"))\n",
    "sayi2=int(input(\"2 Sayıyı Giriniz:\"))\n",
    "sayi3=int(input(\"3 Sayıyı Giriniz:\"))\n",
    "sonuc=eb(sayi1,sayi2,sayi3)\n",
    "print(f\"Girdiginiz Sayıların En Büyüğü:{sonuc}\")"
   ]
  },
  {
   "cell_type": "code",
   "execution_count": 142,
   "id": "e57b4b46-f2ab-49b1-9f3c-b5ce4b33f867",
   "metadata": {},
   "outputs": [
    {
     "name": "stdout",
     "output_type": "stream",
     "text": [
      "Max=25\n"
     ]
    }
   ],
   "source": [
    "def eb(diziler):\n",
    "    for i in diziler:\n",
    "        return max(diziler)\n",
    "\n",
    "diziler=[5,10,15,20,25]\n",
    "sonuc=eb(diziler)\n",
    "print(f\"Max={sonuc}\")\n",
    "\n"
   ]
  },
  {
   "cell_type": "code",
   "execution_count": 169,
   "id": "cd1563e8-1809-43ed-8710-f1f9cbe479b9",
   "metadata": {},
   "outputs": [
    {
     "name": "stdout",
     "output_type": "stream",
     "text": [
      "Palindrommu: 424\n"
     ]
    },
    {
     "name": "stdout",
     "output_type": "stream",
     "text": [
      "True\n"
     ]
    }
   ],
   "source": [
    "def palindrom(kelime):\n",
    "    return kelime==kelime[::-1]\n",
    "\n",
    "kelimegir=input(\"Palindrommu:\")\n",
    "sonuc=palindrom(kelimegir)\n",
    "print(sonuc)"
   ]
  },
  {
   "cell_type": "code",
   "execution_count": 158,
   "id": "4c987b5c-e0ca-4873-b914-d3f271035b41",
   "metadata": {},
   "outputs": [
    {
     "name": "stdout",
     "output_type": "stream",
     "text": [
      "Bir Sayi Giriniz: 86\n"
     ]
    },
    {
     "name": "stdout",
     "output_type": "stream",
     "text": [
      "True\n"
     ]
    }
   ],
   "source": [
    "def ciftmi(a):\n",
    "    return a%2==0\n",
    "    \n",
    "\n",
    "sayi=int(input(\"Bir Sayi Giriniz:\"))\n",
    "sonuc=ciftmi(sayi)\n",
    "print(sonuc)\n",
    "   "
   ]
  },
  {
   "cell_type": "code",
   "execution_count": 192,
   "id": "8e75b46a-fee9-4bbc-8b66-125036775f45",
   "metadata": {},
   "outputs": [
    {
     "name": "stdout",
     "output_type": "stream",
     "text": [
      "dizi:[9, 85, 39, 4, 96, 13, 43, 20, 9, 2]\n",
      "96\n"
     ]
    }
   ],
   "source": [
    "import random\n",
    "dizi=[random.randint(1,100) for _ in range(10)]\n",
    "print(f\"dizi:{dizi}\")\n",
    "max=dizi[0]\n",
    "for i in dizi:\n",
    "    if i>max:\n",
    "        max=i\n",
    "print(max)\n",
    "        \n"
   ]
  },
  {
   "cell_type": "code",
   "execution_count": 200,
   "id": "de6207b6-0a0e-4d0c-823a-232824d9a030",
   "metadata": {},
   "outputs": [
    {
     "name": "stdout",
     "output_type": "stream",
     "text": [
      "[9, 65, 96, 13, 46, 68, 89, 98, 73, 3]\n",
      "[98, 96, 89, 73, 68, 65, 46, 13, 9, 3]\n"
     ]
    }
   ],
   "source": [
    "import random\n",
    "dizi=[random.randint(1,100) for _ in range(10)]\n",
    "print(dizi)\n",
    "dizi.sort()\n",
    "dizi.reverse()\n",
    "print(dizi)"
   ]
  },
  {
   "cell_type": "code",
   "execution_count": null,
   "id": "0646961b-0cc7-4498-94fe-dde9c5baafd5",
   "metadata": {},
   "outputs": [],
   "source": [
    "\n",
    "        \n"
   ]
  }
 ],
 "metadata": {
  "kernelspec": {
   "display_name": "Python 3 (ipykernel)",
   "language": "python",
   "name": "python3"
  },
  "language_info": {
   "codemirror_mode": {
    "name": "ipython",
    "version": 3
   },
   "file_extension": ".py",
   "mimetype": "text/x-python",
   "name": "python",
   "nbconvert_exporter": "python",
   "pygments_lexer": "ipython3",
   "version": "3.12.4"
  }
 },
 "nbformat": 4,
 "nbformat_minor": 5
}
